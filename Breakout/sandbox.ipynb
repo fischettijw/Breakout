{
 "cells": [
  {
   "cell_type": "code",
   "execution_count": null,
   "metadata": {},
   "outputs": [],
   "source": [
    "bricks = []\n",
    "brick_rows = 4\n",
    "brick_cols = 5\n",
    "\n",
    "brick_colors = [\"RED\", \"GREEN\", \"BLUE\", \"YELLOW\", \"MAGENTA\"] \n",
    "\n",
    "# Create bricks\n",
    "brick_row = 0\n",
    "for row in range(brick_rows):\n",
    "    for col in range(brick_cols):\n",
    "        bricks.append((row,col))\n",
    "\n",
    "for brick in bricks:\n",
    "    print(brick, brick_colors[brick[0] % brick_cols])\n"
   ]
  },
  {
   "cell_type": "code",
   "execution_count": null,
   "metadata": {},
   "outputs": [],
   "source": [
    "# Create Rectangles for bricks\n",
    "brick_colors = [RED, GREEN, BLUE, YELLOW, MAGENTA, CYAN, ORANGE, PINK]\n",
    "for row in range(BRICK_ROWS):\n",
    "    for col in range(BRICK_COLS):\n",
    "        brick = pygame.Rect(col * BRICK_WIDTH,\n",
    "                            row * BRICK_HEIGHT + 50,\n",
    "                            BRICK_WIDTH - 2,\n",
    "                            BRICK_HEIGHT - 2)\n",
    "        bricks.append(brick)"
   ]
  },
  {
   "cell_type": "code",
   "execution_count": 7,
   "metadata": {},
   "outputs": [
    {
     "name": "stdout",
     "output_type": "stream",
     "text": [
      "(0, 0, 'RED') RED\n",
      "(0, 1, 'RED') RED\n",
      "(0, 2, 'RED') RED\n",
      "(0, 3, 'RED') RED\n",
      "(0, 4, 'RED') RED\n",
      "(1, 0, 'GREEN') GREEN\n",
      "(1, 1, 'GREEN') GREEN\n",
      "(1, 2, 'GREEN') GREEN\n",
      "(1, 3, 'GREEN') GREEN\n",
      "(1, 4, 'GREEN') GREEN\n",
      "(2, 0, 'BLUE') BLUE\n",
      "(2, 1, 'BLUE') BLUE\n",
      "(2, 2, 'BLUE') BLUE\n",
      "(2, 3, 'BLUE') BLUE\n",
      "(2, 4, 'BLUE') BLUE\n",
      "(3, 0, 'YELLOW') YELLOW\n",
      "(3, 1, 'YELLOW') YELLOW\n",
      "(3, 2, 'YELLOW') YELLOW\n",
      "(3, 3, 'YELLOW') YELLOW\n",
      "(3, 4, 'YELLOW') YELLOW\n"
     ]
    }
   ],
   "source": [
    "bricks = []\n",
    "brick_rows = 4\n",
    "brick_cols = 5\n",
    "\n",
    "brick_colors = [\"RED\", \"GREEN\", \"BLUE\", \"YELLOW\", \"MAGENTA\"] \n",
    "\n",
    "# Create bricks\n",
    "brick_row = 0\n",
    "for row in range(brick_rows):\n",
    "    for col in range(brick_cols):\n",
    "        bricks.append((row,col,brick_colors[row % brick_cols]))\n",
    "\n",
    "for brick in bricks:\n",
    "    print(brick, brick_colors[brick[0] % brick_cols])\n"
   ]
  }
 ],
 "metadata": {
  "kernelspec": {
   "display_name": "Python 3",
   "language": "python",
   "name": "python3"
  },
  "language_info": {
   "codemirror_mode": {
    "name": "ipython",
    "version": 3
   },
   "file_extension": ".py",
   "mimetype": "text/x-python",
   "name": "python",
   "nbconvert_exporter": "python",
   "pygments_lexer": "ipython3",
   "version": "3.12.4"
  }
 },
 "nbformat": 4,
 "nbformat_minor": 2
}
